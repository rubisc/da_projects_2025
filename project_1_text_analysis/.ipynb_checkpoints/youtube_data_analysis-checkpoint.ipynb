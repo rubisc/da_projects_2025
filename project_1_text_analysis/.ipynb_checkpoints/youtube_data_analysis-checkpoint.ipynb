{
 "cells": [
  {
   "cell_type": "code",
   "execution_count": 1,
   "id": "413df272-cca0-46f2-a4f5-87a4ae6d6467",
   "metadata": {},
   "outputs": [],
   "source": [
    "import pandas as pd\n",
    "import numpy as np\n",
    "import matplotlib.pyplot as plt\n",
    "import seaborn as sns"
   ]
  },
  {
   "cell_type": "code",
   "execution_count": 2,
   "id": "d988706d-a2ae-47d8-8c5d-e2952adbb75b",
   "metadata": {},
   "outputs": [
    {
     "name": "stdout",
     "output_type": "stream",
     "text": [
      "UScomments.csv               youtube_data_analysis.ipynb\n"
     ]
    }
   ],
   "source": [
    "ls"
   ]
  },
  {
   "cell_type": "code",
   "execution_count": 3,
   "id": "6b70e311-a878-4cc2-a778-c43a2f8458ed",
   "metadata": {},
   "outputs": [
    {
     "name": "stdout",
     "output_type": "stream",
     "text": [
      "691723\n"
     ]
    }
   ],
   "source": [
    "# Step 1: Count total lines in the original CSV file\n",
    "# This is a memory-efficient way to count lines\n",
    "with open(\"UScomments.csv\", 'r') as f:\n",
    "    total_lines = sum(1 for line in f)\n",
    "print(total_lines)"
   ]
  },
  {
   "cell_type": "code",
   "execution_count": 4,
   "id": "d060f9e2-e5e7-4244-a85a-5f6969c205b9",
   "metadata": {},
   "outputs": [
    {
     "name": "stderr",
     "output_type": "stream",
     "text": [
      "/var/folders/k4/bng51m4110b6q0bws1x65tn40000gn/T/ipykernel_46343/1634883088.py:1: DtypeWarning: Columns (2,3) have mixed types. Specify dtype option on import or set low_memory=False.\n",
      "  df = pd.read_csv(\"UScomments.csv\", on_bad_lines=\"skip\")\n"
     ]
    }
   ],
   "source": [
    "df = pd.read_csv(\"UScomments.csv\", on_bad_lines=\"skip\")"
   ]
  },
  {
   "cell_type": "code",
   "execution_count": 5,
   "id": "07662137-f1b3-4b67-9de7-4eef1e1daba1",
   "metadata": {},
   "outputs": [
    {
     "data": {
      "text/html": [
       "<div>\n",
       "<style scoped>\n",
       "    .dataframe tbody tr th:only-of-type {\n",
       "        vertical-align: middle;\n",
       "    }\n",
       "\n",
       "    .dataframe tbody tr th {\n",
       "        vertical-align: top;\n",
       "    }\n",
       "\n",
       "    .dataframe thead th {\n",
       "        text-align: right;\n",
       "    }\n",
       "</style>\n",
       "<table border=\"1\" class=\"dataframe\">\n",
       "  <thead>\n",
       "    <tr style=\"text-align: right;\">\n",
       "      <th></th>\n",
       "      <th>video_id</th>\n",
       "      <th>comment_text</th>\n",
       "      <th>likes</th>\n",
       "      <th>replies</th>\n",
       "    </tr>\n",
       "  </thead>\n",
       "  <tbody>\n",
       "    <tr>\n",
       "      <th>0</th>\n",
       "      <td>XpVt6Z1Gjjo</td>\n",
       "      <td>Logan Paul it's yo big day ‼️‼️‼️</td>\n",
       "      <td>4</td>\n",
       "      <td>0</td>\n",
       "    </tr>\n",
       "    <tr>\n",
       "      <th>1</th>\n",
       "      <td>XpVt6Z1Gjjo</td>\n",
       "      <td>I've been following you from the start of your...</td>\n",
       "      <td>3</td>\n",
       "      <td>0</td>\n",
       "    </tr>\n",
       "    <tr>\n",
       "      <th>2</th>\n",
       "      <td>XpVt6Z1Gjjo</td>\n",
       "      <td>Say hi to Kong and maverick for me</td>\n",
       "      <td>3</td>\n",
       "      <td>0</td>\n",
       "    </tr>\n",
       "    <tr>\n",
       "      <th>3</th>\n",
       "      <td>XpVt6Z1Gjjo</td>\n",
       "      <td>MY FAN . attendance</td>\n",
       "      <td>3</td>\n",
       "      <td>0</td>\n",
       "    </tr>\n",
       "    <tr>\n",
       "      <th>4</th>\n",
       "      <td>XpVt6Z1Gjjo</td>\n",
       "      <td>trending 😉</td>\n",
       "      <td>3</td>\n",
       "      <td>0</td>\n",
       "    </tr>\n",
       "  </tbody>\n",
       "</table>\n",
       "</div>"
      ],
      "text/plain": [
       "      video_id                                       comment_text likes  \\\n",
       "0  XpVt6Z1Gjjo                  Logan Paul it's yo big day ‼️‼️‼️     4   \n",
       "1  XpVt6Z1Gjjo  I've been following you from the start of your...     3   \n",
       "2  XpVt6Z1Gjjo                 Say hi to Kong and maverick for me     3   \n",
       "3  XpVt6Z1Gjjo                                MY FAN . attendance     3   \n",
       "4  XpVt6Z1Gjjo                                         trending 😉     3   \n",
       "\n",
       "  replies  \n",
       "0       0  \n",
       "1       0  \n",
       "2       0  \n",
       "3       0  \n",
       "4       0  "
      ]
     },
     "execution_count": 5,
     "metadata": {},
     "output_type": "execute_result"
    }
   ],
   "source": [
    "df.head()"
   ]
  },
  {
   "cell_type": "code",
   "execution_count": 6,
   "id": "5daff3a6-ec54-46f6-b913-e8448c730269",
   "metadata": {},
   "outputs": [
    {
     "name": "stdout",
     "output_type": "stream",
     "text": [
      "<class 'pandas.core.frame.DataFrame'>\n",
      "RangeIndex: 691400 entries, 0 to 691399\n",
      "Data columns (total 4 columns):\n",
      " #   Column        Non-Null Count   Dtype \n",
      "---  ------        --------------   ----- \n",
      " 0   video_id      691400 non-null  object\n",
      " 1   comment_text  691375 non-null  object\n",
      " 2   likes         691400 non-null  object\n",
      " 3   replies       691400 non-null  object\n",
      "dtypes: object(4)\n",
      "memory usage: 21.1+ MB\n"
     ]
    }
   ],
   "source": [
    "df.info()"
   ]
  },
  {
   "cell_type": "code",
   "execution_count": 7,
   "id": "a4f1211c-3dd9-4219-9131-450f941f2e44",
   "metadata": {},
   "outputs": [
    {
     "data": {
      "text/plain": [
       "(691400, 4)"
      ]
     },
     "execution_count": 7,
     "metadata": {},
     "output_type": "execute_result"
    }
   ],
   "source": [
    "df.shape"
   ]
  },
  {
   "cell_type": "code",
   "execution_count": 8,
   "id": "c5e17cef-edd4-4da3-8d7d-1dcc6f764211",
   "metadata": {},
   "outputs": [
    {
     "name": "stdout",
     "output_type": "stream",
     "text": [
      "323\n"
     ]
    }
   ],
   "source": [
    "bad_lines_count = total_lines - df.shape[0]\n",
    "print(bad_lines_count)"
   ]
  },
  {
   "cell_type": "code",
   "execution_count": 9,
   "id": "9a41e0cf-8f38-402e-bd92-9d5a84d517dc",
   "metadata": {},
   "outputs": [
    {
     "data": {
      "text/plain": [
       "video_id         0\n",
       "comment_text    25\n",
       "likes            0\n",
       "replies          0\n",
       "dtype: int64"
      ]
     },
     "execution_count": 9,
     "metadata": {},
     "output_type": "execute_result"
    }
   ],
   "source": [
    "df.isnull().sum()"
   ]
  },
  {
   "cell_type": "code",
   "execution_count": 10,
   "id": "309bad56-6098-4b51-8639-67a08995b953",
   "metadata": {},
   "outputs": [
    {
     "data": {
      "text/plain": [
       "0                         Logan Paul it's yo big day ‼️‼️‼️\n",
       "1         I've been following you from the start of your...\n",
       "2                        Say hi to Kong and maverick for me\n",
       "3                                       MY FAN . attendance\n",
       "4                                                trending 😉\n",
       "                                ...                        \n",
       "691395                                               Лучшая\n",
       "691396    qu'est ce que j'aimerais que tu viennes à Roan...\n",
       "691397                            Ven a mexico! 😍 te amo LP\n",
       "691398                                      Islığı yeter...\n",
       "691399    Kocham tą piosenkę😍❤❤❤byłam zakochana po uszy ...\n",
       "Name: comment_text, Length: 691400, dtype: object"
      ]
     },
     "execution_count": 10,
     "metadata": {},
     "output_type": "execute_result"
    }
   ],
   "source": [
    "df[\"comment_text\"]"
   ]
  },
  {
   "cell_type": "code",
   "execution_count": 11,
   "id": "4f332def-553d-45ab-85f0-9abedbd60ec4",
   "metadata": {},
   "outputs": [],
   "source": [
    "# df[df[\"comment_text\"].isna()]"
   ]
  },
  {
   "cell_type": "markdown",
   "id": "f05ff3e8-7d7c-42de-95bc-0fc385f1ab2c",
   "metadata": {},
   "source": [
    "#### The whole point of this project is text analysis, so if there is no text in the comment_text, then get rid of that row"
   ]
  },
  {
   "cell_type": "code",
   "execution_count": 12,
   "id": "52ef2312-c801-4b9a-9f10-78144ab79c93",
   "metadata": {},
   "outputs": [],
   "source": [
    "df.dropna(inplace=True)"
   ]
  },
  {
   "cell_type": "code",
   "execution_count": 13,
   "id": "27f3c6df-9d5f-474d-886b-e9bc15c6cc71",
   "metadata": {},
   "outputs": [
    {
     "data": {
      "text/plain": [
       "video_id        0\n",
       "comment_text    0\n",
       "likes           0\n",
       "replies         0\n",
       "dtype: int64"
      ]
     },
     "execution_count": 13,
     "metadata": {},
     "output_type": "execute_result"
    }
   ],
   "source": [
    "df.isnull().sum()"
   ]
  },
  {
   "cell_type": "code",
   "execution_count": 14,
   "id": "1558b673-691c-4db9-bdd3-d0d259796590",
   "metadata": {},
   "outputs": [
    {
     "data": {
      "text/plain": [
       "212683"
      ]
     },
     "execution_count": 14,
     "metadata": {},
     "output_type": "execute_result"
    }
   ],
   "source": [
    "df.duplicated().sum()"
   ]
  },
  {
   "cell_type": "markdown",
   "id": "007ab816-c060-4412-a063-09201641811f",
   "metadata": {},
   "source": [
    "### Perform sentiment analysis\n",
    "\n",
    "#### For sentiment, we want to understand viewer emotions. +, - or neutral. Sentiment score or polarity.\n",
    "\n",
    "-1 = negative score;\n",
    "0 = neutral sentiment;\n",
    "+1 = positive sentiment;"
   ]
  },
  {
   "cell_type": "markdown",
   "id": "34bfa03c-7fbf-40c2-9be9-67ec7679bbb6",
   "metadata": {},
   "source": [
    "#### NLTK (Natural Language Toolkit) \n",
    "\n",
    "#### VADER (Valence Aware Dictionary and sEntiment Reasoner)\n",
    "\n",
    "VADER is a lexicon and rule-based sentiment analysis tool specifically designed for social media text. Unlike machine learning models that require training, VADER is ready to use \"out of the box.\" Its key features include: Sentiment Lexicon, Rule-based (punctuation, capitalization, negation, degree modifiers)."
   ]
  },
  {
   "cell_type": "code",
   "execution_count": 15,
   "id": "068603a7-2885-4eec-8719-404fcbe1ff43",
   "metadata": {},
   "outputs": [],
   "source": [
    "import nltk  "
   ]
  },
  {
   "cell_type": "code",
   "execution_count": 16,
   "id": "2f9bde02-6658-45e3-a599-708edcd69aa5",
   "metadata": {},
   "outputs": [
    {
     "name": "stderr",
     "output_type": "stream",
     "text": [
      "[nltk_data] Downloading package vader_lexicon to\n",
      "[nltk_data]     /Users/rubisc/nltk_data...\n",
      "[nltk_data]   Package vader_lexicon is already up-to-date!\n"
     ]
    },
    {
     "data": {
      "text/plain": [
       "True"
      ]
     },
     "execution_count": 16,
     "metadata": {},
     "output_type": "execute_result"
    }
   ],
   "source": [
    "nltk.download(\"vader_lexicon\")"
   ]
  },
  {
   "cell_type": "code",
   "execution_count": 17,
   "id": "1da6e5ad-10d6-44d7-b45a-71267ecb9a37",
   "metadata": {},
   "outputs": [],
   "source": [
    "from nltk.sentiment.vader import SentimentIntensityAnalyzer\n",
    "sia = SentimentIntensityAnalyzer()"
   ]
  },
  {
   "cell_type": "code",
   "execution_count": 18,
   "id": "fc1a20ac-5f78-4dae-a1b5-788742d4500f",
   "metadata": {},
   "outputs": [
    {
     "name": "stdout",
     "output_type": "stream",
     "text": [
      "{'neg': 0.0, 'neu': 0.37, 'pos': 0.63, 'compound': 0.86}\n"
     ]
    }
   ],
   "source": [
    "sentence = \"I absolutely love using VADER; it's so easy!\"\n",
    "scores = sia.polarity_scores(sentence)\n",
    "print(scores)\n",
    "# 'compound' = overall sentiment score. Often the most useful score for a quick summary."
   ]
  },
  {
   "cell_type": "code",
   "execution_count": null,
   "id": "3ca6b225-c615-4eca-9a8c-e1e1ae25242a",
   "metadata": {},
   "outputs": [],
   "source": [
    "comment_polarity_scores = []\n",
    "\n",
    "for comment in df[\"comment_text\"]:\n",
    "    score = sia.polarity_scores(comment)[\"compound\"]\n",
    "    comment_polarity_scores.append(score)"
   ]
  },
  {
   "cell_type": "code",
   "execution_count": null,
   "id": "9983c15e-1972-47a0-a4b7-2b9fa814d5cb",
   "metadata": {},
   "outputs": [],
   "source": [
    "# print(comment_polarity_scores) This is a LOT of data, so you could take a sample if you wanted to"
   ]
  },
  {
   "cell_type": "markdown",
   "id": "00b40fdf-6700-458b-9265-c64a94a5f59d",
   "metadata": {},
   "source": [
    "##### Let's take the polarity for the first 10k rows"
   ]
  },
  {
   "cell_type": "code",
   "execution_count": null,
   "id": "4fbabe0d-cc24-4924-9578-0747e8c39998",
   "metadata": {},
   "outputs": [],
   "source": [
    "polarity_df = df.copy()"
   ]
  },
  {
   "cell_type": "code",
   "execution_count": null,
   "id": "1a4339c3-7b7a-4ca8-b4ab-e72152ea388f",
   "metadata": {},
   "outputs": [],
   "source": [
    "polarity_df[\"polarity\"] = comment_polarity_scores"
   ]
  },
  {
   "cell_type": "code",
   "execution_count": null,
   "id": "53bc9860-2eca-4215-9abe-4cf67a2cba5f",
   "metadata": {},
   "outputs": [],
   "source": [
    "polarity_df.head()"
   ]
  },
  {
   "cell_type": "code",
   "execution_count": null,
   "id": "28660bc4-26bd-4442-8ab5-3f3c38306455",
   "metadata": {},
   "outputs": [],
   "source": [
    "polarity_df.shape"
   ]
  },
  {
   "cell_type": "code",
   "execution_count": null,
   "id": "08f8fc43-311f-4944-9ee5-3488cd8087b0",
   "metadata": {},
   "outputs": [],
   "source": [
    "polarity_df[\"polarity\"].min()"
   ]
  },
  {
   "cell_type": "code",
   "execution_count": null,
   "id": "a204ac16-1c80-4708-9594-6f25dd2e9182",
   "metadata": {},
   "outputs": [],
   "source": [
    "polarity_df[\"polarity\"].max()"
   ]
  },
  {
   "cell_type": "markdown",
   "id": "e7cd93f5-8262-4709-a4e0-c321f3d0979f",
   "metadata": {},
   "source": [
    "### Perform Wordcloud analysis\n",
    "\n",
    "We can assign -.8 to -1 as highly negative; .8-1 as highly positive."
   ]
  },
  {
   "cell_type": "code",
   "execution_count": null,
   "id": "fd2492d7-c0bd-4c92-a2f0-14b391756a67",
   "metadata": {},
   "outputs": [],
   "source": [
    "filter_pos_comments = polarity_df[\"polarity\"] >=.8 "
   ]
  },
  {
   "cell_type": "code",
   "execution_count": null,
   "id": "43c46e44-cb80-4fa7-9e4f-b5e835b3ec7b",
   "metadata": {},
   "outputs": [],
   "source": [
    "pos_comments = polarity_df[filter_pos_comments]"
   ]
  },
  {
   "cell_type": "code",
   "execution_count": null,
   "id": "ea26f3a5-d832-46aa-8b3e-b7883e87a452",
   "metadata": {},
   "outputs": [],
   "source": [
    "pos_comments.head()"
   ]
  },
  {
   "cell_type": "code",
   "execution_count": null,
   "id": "cf741fa0-9936-4989-8bc5-588d9c22f2ec",
   "metadata": {},
   "outputs": [],
   "source": [
    "pos_comments.shape"
   ]
  },
  {
   "cell_type": "code",
   "execution_count": null,
   "id": "fbc5d70b-59bd-4f6b-a0eb-4bc1773c0cb8",
   "metadata": {},
   "outputs": [],
   "source": [
    "filter_neg_comments = polarity_df[\"polarity\"] <=-.8 "
   ]
  },
  {
   "cell_type": "code",
   "execution_count": null,
   "id": "1c02a721-4ef1-4505-ac6d-2f4d46f57984",
   "metadata": {},
   "outputs": [],
   "source": [
    "neg_comments = polarity_df[filter_neg_comments]"
   ]
  },
  {
   "cell_type": "code",
   "execution_count": null,
   "id": "09d3471a-d70f-4740-9d4f-59dafee7105f",
   "metadata": {},
   "outputs": [],
   "source": [
    "neg_comments.head()"
   ]
  },
  {
   "cell_type": "code",
   "execution_count": null,
   "id": "d70e4248-961b-41bd-86a2-bfb57ec66185",
   "metadata": {},
   "outputs": [],
   "source": [
    "neg_comments.shape"
   ]
  },
  {
   "cell_type": "code",
   "execution_count": null,
   "id": "bd876f92-170c-4ee7-959b-6e2f1e1fdf71",
   "metadata": {},
   "outputs": [],
   "source": [
    "from wordcloud import WordCloud , STOPWORDS\n",
    "# STOPWORDS: This is a set of common English words (like \"the,\" \"is,\" \"and,\" etc.) \n",
    "# that are typically filtered out before creating a word cloud. \n",
    "# These words don't carry much meaning and would clutter the visualization."
   ]
  },
  {
   "cell_type": "markdown",
   "id": "b20b128f-4139-4d81-a0d2-43176b4aedac",
   "metadata": {},
   "source": [
    "##### Positive word cloud"
   ]
  },
  {
   "cell_type": "code",
   "execution_count": null,
   "id": "7b56e90e-dee5-4183-bb5e-d06e4a3eb5cf",
   "metadata": {},
   "outputs": [],
   "source": [
    "total_pos_comments = ' '.join(pos_comments[\"comment_text\"])"
   ]
  },
  {
   "cell_type": "code",
   "execution_count": null,
   "id": "50d4d83d-020c-478e-bb98-5e451ee61112",
   "metadata": {},
   "outputs": [],
   "source": [
    "wordcloud_positive = WordCloud(stopwords=set(STOPWORDS)).generate(total_pos_comments)"
   ]
  },
  {
   "cell_type": "code",
   "execution_count": null,
   "id": "a0ce3ec9-c24a-4195-9977-8e30ece8cad0",
   "metadata": {},
   "outputs": [],
   "source": [
    "plt.imshow(wordcloud_positive)\n",
    "plt.axis(\"off\")"
   ]
  },
  {
   "cell_type": "code",
   "execution_count": null,
   "id": "845f413c-65ab-45e8-9eca-1ef2d7c67e5e",
   "metadata": {},
   "outputs": [],
   "source": [
    "total_neg_comments = ' '.join(neg_comments[\"comment_text\"])"
   ]
  },
  {
   "cell_type": "code",
   "execution_count": null,
   "id": "29997004-cbbd-498a-a28d-ff6cba7c1e43",
   "metadata": {},
   "outputs": [],
   "source": [
    "wordcloud_negative = WordCloud(stopwords=set(STOPWORDS)).generate(total_neg_comments)"
   ]
  },
  {
   "cell_type": "code",
   "execution_count": null,
   "id": "e2fb2c08-0ed2-4318-9045-0ffc755c8da4",
   "metadata": {},
   "outputs": [],
   "source": [
    "plt.imshow(wordcloud_negative)\n",
    "plt.axis(\"off\")"
   ]
  },
  {
   "cell_type": "markdown",
   "id": "04af22e8-1d71-4868-b629-a2d48758508c",
   "metadata": {},
   "source": [
    "#### Perform Emoji Analysis"
   ]
  },
  {
   "cell_type": "code",
   "execution_count": null,
   "id": "a145fe5c-9c53-47c1-ac99-fb6486eb0325",
   "metadata": {},
   "outputs": [],
   "source": [
    "import emoji"
   ]
  },
  {
   "cell_type": "code",
   "execution_count": null,
   "id": "95fdca77-129b-4db4-9810-89c00aad23a7",
   "metadata": {},
   "outputs": [],
   "source": [
    "emoji.__version__"
   ]
  },
  {
   "cell_type": "code",
   "execution_count": null,
   "id": "6e4c2e09-4411-4ca4-a240-2df0ea306f28",
   "metadata": {},
   "outputs": [],
   "source": [
    "polarity_df.head()"
   ]
  },
  {
   "cell_type": "code",
   "execution_count": null,
   "id": "e1fcb129-d78b-4672-996b-51f6bcbcb77f",
   "metadata": {},
   "outputs": [],
   "source": [
    "emojis_info = emoji.emoji_list(\"trending 😉\")"
   ]
  },
  {
   "cell_type": "code",
   "execution_count": null,
   "id": "30fb821b-7a2f-4b1c-8aa4-71e6e30c3120",
   "metadata": {},
   "outputs": [],
   "source": [
    "emojis_info"
   ]
  },
  {
   "cell_type": "code",
   "execution_count": null,
   "id": "29b054df-57ec-48f9-85a9-3dfe9637e040",
   "metadata": {},
   "outputs": [],
   "source": [
    "[item[\"emoji\"] for item in emojis_info]"
   ]
  },
  {
   "cell_type": "code",
   "execution_count": null,
   "id": "cd6a6165-c3c2-4f9e-8e03-3d4f2696335e",
   "metadata": {},
   "outputs": [],
   "source": [
    "all_emojis_found = []\n",
    "\n",
    "for comment in polarity_df[\"comment_text\"]:\n",
    "    emojis_info = emoji.emoji_list(comment)\n",
    "    emojis_found = [item[\"emoji\"] for item in emojis_info]\n",
    "    all_emojis_found.extend(emojis_found)"
   ]
  },
  {
   "cell_type": "code",
   "execution_count": null,
   "id": "b8435e89-7bd8-43c8-9fc6-2b8fc3eec492",
   "metadata": {},
   "outputs": [],
   "source": [
    "# all_emojis_found[:10]"
   ]
  },
  {
   "cell_type": "code",
   "execution_count": null,
   "id": "7f7b4d86-8b88-4bf6-aa27-89434234d43f",
   "metadata": {},
   "outputs": [],
   "source": [
    "from collections import Counter"
   ]
  },
  {
   "cell_type": "code",
   "execution_count": null,
   "id": "898a809f-93ff-40de-a577-5887aebc9bdb",
   "metadata": {},
   "outputs": [],
   "source": [
    "emojis_count_list_top10 = Counter(all_emojis_found).most_common(10)"
   ]
  },
  {
   "cell_type": "code",
   "execution_count": null,
   "id": "54fc21c8-4fa6-450b-acc4-f9eb5b5eb6d2",
   "metadata": {},
   "outputs": [],
   "source": [
    "emojis_count_list_top10"
   ]
  },
  {
   "cell_type": "code",
   "execution_count": null,
   "id": "18c41bc8-6763-43b4-b7d3-394b73c013e2",
   "metadata": {},
   "outputs": [],
   "source": [
    "emojis = [emoji for emoji, count in emojis_count_list_top10]\n",
    "count = [count for emoji, count in emojis_count_list_top10]"
   ]
  },
  {
   "cell_type": "code",
   "execution_count": null,
   "id": "4b682e3d-0eed-4db6-b8fb-6ce00eb410ce",
   "metadata": {},
   "outputs": [],
   "source": [
    "emojis"
   ]
  },
  {
   "cell_type": "code",
   "execution_count": null,
   "id": "2a0147a9-8d98-4f01-92b6-f9b2914764c7",
   "metadata": {},
   "outputs": [],
   "source": [
    "count"
   ]
  },
  {
   "cell_type": "code",
   "execution_count": null,
   "id": "a2d187ad-6d7d-4420-8c75-464054601deb",
   "metadata": {},
   "outputs": [],
   "source": [
    "import plotly.graph_objs as go\n",
    "from plotly.offline import iplot"
   ]
  },
  {
   "cell_type": "code",
   "execution_count": null,
   "id": "8225e18b-f59c-41c8-848a-ed65ca2984a3",
   "metadata": {},
   "outputs": [],
   "source": [
    "# go.Bar(x=emojis, y=count)"
   ]
  },
  {
   "cell_type": "code",
   "execution_count": null,
   "id": "7fe4a4ae-bfe0-4dd7-b710-7c4712ab3c49",
   "metadata": {},
   "outputs": [],
   "source": [
    "iplot([go.Bar(x=emojis, y=count)])"
   ]
  },
  {
   "cell_type": "code",
   "execution_count": null,
   "id": "21af8910-afa9-4c1c-b78c-c280d55c8495",
   "metadata": {},
   "outputs": [],
   "source": [
    "ls ../Youtube_project_shan_singh_Udemy/additional_data/   "
   ]
  },
  {
   "cell_type": "code",
   "execution_count": null,
   "id": "6f875fc3-6d64-4d25-a5ac-a0429ccd3b33",
   "metadata": {},
   "outputs": [],
   "source": [
    "import os"
   ]
  },
  {
   "cell_type": "code",
   "execution_count": null,
   "id": "36047e46-7df8-4696-b1e6-d91207c21c82",
   "metadata": {},
   "outputs": [],
   "source": [
    "files_csv = [file for file in os.listdir('../Youtube_project_shan_singh_Udemy/additional_data/') if file.endswith('.csv')]"
   ]
  },
  {
   "cell_type": "code",
   "execution_count": null,
   "id": "2b6b5d80-0db4-4b08-bddf-f274e52cbae9",
   "metadata": {},
   "outputs": [],
   "source": [
    "files_csv"
   ]
  },
  {
   "cell_type": "code",
   "execution_count": null,
   "id": "48559b39-8f52-4ae6-b6c9-ce2114e9a264",
   "metadata": {},
   "outputs": [],
   "source": [
    "import warnings\n",
    "from warnings import filterwarnings\n",
    "\n",
    "filterwarnings('ignore')"
   ]
  },
  {
   "cell_type": "code",
   "execution_count": null,
   "id": "83905897-892f-4fe1-8877-e4bbc0d6fe59",
   "metadata": {},
   "outputs": [],
   "source": [
    "# pwd"
   ]
  },
  {
   "cell_type": "code",
   "execution_count": null,
   "id": "5577d4bf-bd38-4467-b5fe-d17c5b87cbad",
   "metadata": {},
   "outputs": [],
   "source": [
    "full_df = pd.DataFrame()\n",
    "\n",
    "path = '/Users/rubisc/workspace/data_analytics_real_world_projects/Youtube_project_shan_singh_Udemy/additional_data/'\n",
    "\n",
    "for _file in files_csv:\n",
    "    # print(path + _file)\n",
    "    current_df = pd.read_csv(path + _file, encoding='iso-8859-1', error_bad_lines=False)\n",
    "    # print(current_df.columns)\n",
    "    full_df = pd.concat([full_df, current_df], ignore_index=True)"
   ]
  },
  {
   "cell_type": "code",
   "execution_count": null,
   "id": "44450275-4ea4-49ed-8399-fe35d27aa20d",
   "metadata": {},
   "outputs": [],
   "source": [
    "full_df.shape"
   ]
  },
  {
   "cell_type": "code",
   "execution_count": null,
   "id": "fa892cee-14b7-4d15-81dd-eb3e41a1b6a1",
   "metadata": {},
   "outputs": [],
   "source": [
    "full_df.head(3)"
   ]
  },
  {
   "cell_type": "code",
   "execution_count": null,
   "id": "4b915636-42f4-44a0-bf61-b15019d6c329",
   "metadata": {},
   "outputs": [],
   "source": [
    "full_df[full_df.duplicated()].shape"
   ]
  },
  {
   "cell_type": "code",
   "execution_count": null,
   "id": "5b0f1dec-3e3c-4928-950b-a65cee9ca9f8",
   "metadata": {},
   "outputs": [],
   "source": [
    "full_df = full_df.drop_duplicates()"
   ]
  },
  {
   "cell_type": "code",
   "execution_count": null,
   "id": "cd14bff9-b486-4654-9ccc-f4301cd4ac27",
   "metadata": {},
   "outputs": [],
   "source": [
    "full_df[full_df.duplicated()].shape"
   ]
  },
  {
   "cell_type": "code",
   "execution_count": null,
   "id": "3195c3af-6dc2-4fa4-83f4-13727187fb44",
   "metadata": {},
   "outputs": [],
   "source": [
    "full_df.shape"
   ]
  },
  {
   "cell_type": "code",
   "execution_count": null,
   "id": "f99d50eb-6f04-41a4-a3dd-b0377a80cf99",
   "metadata": {},
   "outputs": [],
   "source": [
    "pwd"
   ]
  },
  {
   "cell_type": "code",
   "execution_count": null,
   "id": "5104f6b9-05de-44c3-bcc9-7e1f4887a96b",
   "metadata": {},
   "outputs": [],
   "source": [
    "# Define the directory path\n",
    "directory = '../Youtube_project_shan_singh_Udemy/export_data/'\n",
    "\n",
    "# Check if the directory exists, and if not, create it\n",
    "if not os.path.exists(directory):\n",
    "    os.makedirs(directory)\n",
    "\n",
    "# Now, save the file\n",
    "full_df.to_csv(os.path.join(directory, 'full_youtube_data.csv'))\n",
    "print(\"Saved!\")"
   ]
  },
  {
   "cell_type": "code",
   "execution_count": null,
   "id": "8260c61d-19bc-4592-9b9f-7c58a0c81c9d",
   "metadata": {},
   "outputs": [],
   "source": [
    "# Now, save the file\n",
    "full_df.to_json(os.path.join(directory, 'full_youtube_data.json'))\n",
    "print(\"Saved!\")"
   ]
  },
  {
   "cell_type": "code",
   "execution_count": null,
   "id": "c2358dad-c237-4405-a299-7a37cbc041d2",
   "metadata": {},
   "outputs": [],
   "source": [
    "from sqlalchemy import create_engine"
   ]
  },
  {
   "cell_type": "code",
   "execution_count": null,
   "id": "e85b9c73-0e97-4dc9-b38b-4b96322ee9da",
   "metadata": {},
   "outputs": [],
   "source": [
    "# Create the SQLAlchemy engine for the SQLite database file\n",
    "engine = create_engine(f'sqlite:///{db_path}')"
   ]
  },
  {
   "cell_type": "code",
   "execution_count": null,
   "id": "dbb0b6b6-d2b8-47dc-bd35-da6f29f00024",
   "metadata": {},
   "outputs": [],
   "source": [
    "# Use pandas to save the DataFrame to a table named 'full_youtube_data'\n",
    "# The 'if_exists' parameter is set to 'replace' to overwrite the table if it already exists.\n",
    "full_df.to_sql('full_youtube_data', con=engine, if_exists='replace', index=False)\n",
    "\n",
    "print(\"Saved to SQLite database!\")"
   ]
  },
  {
   "cell_type": "code",
   "execution_count": null,
   "id": "14e47c28-89f4-4b7b-9d08-43973c1f2276",
   "metadata": {},
   "outputs": [],
   "source": [
    "db_path = os.path.join(directory, 'full_youtube_data.sqlite')"
   ]
  },
  {
   "cell_type": "code",
   "execution_count": null,
   "id": "0e5ec98b-269e-47ba-a7d8-014fec0b7e91",
   "metadata": {},
   "outputs": [],
   "source": [
    "# Use pandas to save the DataFrame to a table named 'full_youtube_data'\n",
    "# The 'if_exists' parameter is set to 'replace' to overwrite the table if it already exists.\n",
    "full_df.to_sql('Users', con=engine, if_exists='replace', index=False)\n",
    "print(\"Saved to SQLite database!\")"
   ]
  },
  {
   "cell_type": "code",
   "execution_count": null,
   "id": "a640705a-a603-4106-ba22-58966ffa1572",
   "metadata": {},
   "outputs": [],
   "source": [
    "full_df[\"category_id\"].unique()"
   ]
  },
  {
   "cell_type": "code",
   "execution_count": null,
   "id": "55b60fe7-44e2-451d-8b65-475cce8dbe67",
   "metadata": {},
   "outputs": [],
   "source": [
    "# Define the file path\n",
    "file_path = '/Users/rubisc/workspace/data_analytics_real_world_projects/Youtube_project_shan_singh_Udemy/additional_data/US_category_id.json'\n",
    "\n",
    "# Create the DataFrame from the extracted list\n",
    "json_df = pd.read_json(file_path)"
   ]
  },
  {
   "cell_type": "code",
   "execution_count": null,
   "id": "69289e7d-8450-4123-944d-4e003acf0667",
   "metadata": {},
   "outputs": [],
   "source": [
    "json_df.head()"
   ]
  },
  {
   "cell_type": "code",
   "execution_count": null,
   "id": "563ea5be-f300-44e7-9a96-36e9412aab88",
   "metadata": {},
   "outputs": [],
   "source": [
    "json_df[\"items\"][0]"
   ]
  },
  {
   "cell_type": "code",
   "execution_count": null,
   "id": "3f7d8850-deca-472c-ba5e-d642f4f39095",
   "metadata": {},
   "outputs": [],
   "source": [
    "cat_dict = {}\n",
    "\n",
    "for item in json_df[\"items\"].values:\n",
    "    cat_dict[int(item['id'])] = item['snippet']['title']"
   ]
  },
  {
   "cell_type": "code",
   "execution_count": null,
   "id": "f9549181-5c1f-4d41-bcd6-e3e5efb7f467",
   "metadata": {},
   "outputs": [],
   "source": [
    "# cat_dict"
   ]
  },
  {
   "cell_type": "code",
   "execution_count": null,
   "id": "720660c2-4bb6-4d56-a5da-2834afbf545f",
   "metadata": {},
   "outputs": [],
   "source": [
    "full_df[\"category_name\"] = full_df[\"category_id\"].map(cat_dict)"
   ]
  },
  {
   "cell_type": "code",
   "execution_count": null,
   "id": "5e2401e9-f87b-4be3-966a-8d493beab637",
   "metadata": {},
   "outputs": [],
   "source": [
    "full_df.head()"
   ]
  },
  {
   "cell_type": "code",
   "execution_count": null,
   "id": "d170a8cb-bb78-4651-a776-d0c13d09f327",
   "metadata": {},
   "outputs": [],
   "source": []
  },
  {
   "cell_type": "code",
   "execution_count": null,
   "id": "961de0ba-259d-4fad-ac23-fb3712f0878e",
   "metadata": {},
   "outputs": [],
   "source": []
  },
  {
   "cell_type": "code",
   "execution_count": null,
   "id": "0c706ac0-8281-4600-a30c-8542bffd5618",
   "metadata": {},
   "outputs": [],
   "source": []
  }
 ],
 "metadata": {
  "kernelspec": {
   "display_name": "Python 3 (ipykernel)",
   "language": "python",
   "name": "python3"
  },
  "language_info": {
   "codemirror_mode": {
    "name": "ipython",
    "version": 3
   },
   "file_extension": ".py",
   "mimetype": "text/x-python",
   "name": "python",
   "nbconvert_exporter": "python",
   "pygments_lexer": "ipython3",
   "version": "3.9.13"
  }
 },
 "nbformat": 4,
 "nbformat_minor": 5
}
